{
 "cells": [
  {
   "cell_type": "code",
   "execution_count": null,
   "id": "767bba85",
   "metadata": {},
   "outputs": [],
   "source": [
    "#######guess the number \n",
    "check=56\n",
    "print('''Welcome to Guess the number game\n",
    "RULE:-The user guesses the number and returns in how many counts it has guessed''')\n",
    "c=0\n",
    "while True:\n",
    "    guess=int(input())\n",
    "    c=c+1\n",
    "    if guess==check:\n",
    "        print(\"You got it\")\n",
    "        break\n",
    "    elif guess>check:\n",
    "        print(\"You are above the number!\")\n",
    "    elif guess<check:\n",
    "        print(\"you are below the number!\")\n",
    "print(f\"Woohoo!!You guessed the number in {c} counts\")"
   ]
  }
 ],
 "metadata": {
  "kernelspec": {
   "display_name": "Python 3 (ipykernel)",
   "language": "python",
   "name": "python3"
  },
  "language_info": {
   "codemirror_mode": {
    "name": "ipython",
    "version": 3
   },
   "file_extension": ".py",
   "mimetype": "text/x-python",
   "name": "python",
   "nbconvert_exporter": "python",
   "pygments_lexer": "ipython3",
   "version": "3.9.7"
  }
 },
 "nbformat": 4,
 "nbformat_minor": 5
}
